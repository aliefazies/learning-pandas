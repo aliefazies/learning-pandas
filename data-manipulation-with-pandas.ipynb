{
 "cells": [
  {
   "cell_type": "code",
   "execution_count": null,
   "id": "d55a3533",
   "metadata": {},
   "outputs": [],
   "source": [
    "import pickle\n",
    "import pandas as pd\n",
    "import numpy as np"
   ]
  },
  {
   "cell_type": "code",
   "execution_count": null,
   "id": "7f23109f",
   "metadata": {},
   "outputs": [],
   "source": [
    "avocado = pd.read_pickle('datasets/avoplotto.pkl')\n",
    "homelessness = pd.read_csv('datasets/homelessness.csv', index_col = 0)\n",
    "sales = pd.read_csv('datasets/sales_subset.csv', index_col = 0)\n",
    "temperatures = pd.read_csv('datasets/temperatures.csv', index_col=0)"
   ]
  },
  {
   "cell_type": "markdown",
   "id": "3bb8c0a4",
   "metadata": {
    "heading_collapsed": true
   },
   "source": [
    "## Transforming DataFrames"
   ]
  },
  {
   "cell_type": "markdown",
   "id": "b4a8023f",
   "metadata": {
    "heading_collapsed": true,
    "hidden": true
   },
   "source": [
    "### Inspect Dataframe"
   ]
  },
  {
   "cell_type": "code",
   "execution_count": null,
   "id": "82fe2f0d",
   "metadata": {
    "hidden": true
   },
   "outputs": [],
   "source": [
    "print(homelessness.head())\n",
    "print(homelessness.info())\n",
    "print(homelessness.describe())\n",
    "print(homelessness.shape)\n"
   ]
  },
  {
   "cell_type": "code",
   "execution_count": null,
   "id": "cf81e201",
   "metadata": {
    "hidden": true
   },
   "outputs": [],
   "source": [
    "print(avocado.head())\n",
    "print(avocado.info())\n",
    "print(avocado.describe())\n",
    "print(avocado.shape)\n"
   ]
  },
  {
   "cell_type": "code",
   "execution_count": null,
   "id": "b50a6a80",
   "metadata": {
    "hidden": true
   },
   "outputs": [],
   "source": [
    "print(sales.head())\n",
    "print(sales.info())\n",
    "print(sales.describe())\n",
    "print(sales.shape)\n"
   ]
  },
  {
   "cell_type": "code",
   "execution_count": null,
   "id": "2b4c5228",
   "metadata": {
    "hidden": true
   },
   "outputs": [],
   "source": [
    "print(temperatures.head())\n",
    "print(temperatures.info())\n",
    "print(temperatures.describe())\n",
    "print(temperatures.shape)"
   ]
  },
  {
   "cell_type": "markdown",
   "id": "e029cab9",
   "metadata": {
    "heading_collapsed": true,
    "hidden": true
   },
   "source": [
    "### Parts of DataFrame"
   ]
  },
  {
   "cell_type": "code",
   "execution_count": null,
   "id": "b4a32bbd",
   "metadata": {
    "hidden": true
   },
   "outputs": [],
   "source": [
    "print(homelessness.values)\n",
    "print(homelessness.columns)\n",
    "print(homelessness.index)"
   ]
  },
  {
   "cell_type": "markdown",
   "id": "171dce1e",
   "metadata": {
    "heading_collapsed": true,
    "hidden": true
   },
   "source": [
    "### Sorting Rows"
   ]
  },
  {
   "cell_type": "code",
   "execution_count": null,
   "id": "2624067a",
   "metadata": {
    "hidden": true
   },
   "outputs": [],
   "source": [
    "homelessness.sort_values(by=\"individuals\", ascending=False).head()"
   ]
  },
  {
   "cell_type": "code",
   "execution_count": null,
   "id": "2f8cdbfe",
   "metadata": {
    "hidden": true
   },
   "outputs": [],
   "source": [
    "homelessness.sort_values(by=[\"region\",\"family_members\"], ascending=[True, False]).head()"
   ]
  },
  {
   "cell_type": "markdown",
   "id": "d959d03a",
   "metadata": {
    "heading_collapsed": true,
    "hidden": true
   },
   "source": [
    "### Subsetting columns"
   ]
  },
  {
   "cell_type": "code",
   "execution_count": null,
   "id": "ad836ebc",
   "metadata": {
    "hidden": true
   },
   "outputs": [],
   "source": [
    "homelessness[[\"state\"]].head()"
   ]
  },
  {
   "cell_type": "code",
   "execution_count": null,
   "id": "72a514ca",
   "metadata": {
    "hidden": true
   },
   "outputs": [],
   "source": [
    "homelessness[[\"state\",\"family_members\"]].head()"
   ]
  },
  {
   "cell_type": "markdown",
   "id": "3bc7158c",
   "metadata": {
    "heading_collapsed": true,
    "hidden": true
   },
   "source": [
    "### Subsetting rows"
   ]
  },
  {
   "cell_type": "code",
   "execution_count": null,
   "id": "9330657f",
   "metadata": {
    "hidden": true
   },
   "outputs": [],
   "source": [
    "homelessness[homelessness[\"individuals\"] >= 10000].head()"
   ]
  },
  {
   "cell_type": "code",
   "execution_count": null,
   "id": "37f4b13c",
   "metadata": {
    "hidden": true
   },
   "outputs": [],
   "source": [
    "homelessness[homelessness[\"region\"] == \"Mountain\"].head()"
   ]
  },
  {
   "cell_type": "code",
   "execution_count": null,
   "id": "5aeb07e5",
   "metadata": {
    "hidden": true
   },
   "outputs": [],
   "source": [
    "homelessness[(homelessness[\"family_members\"] < 1000) & (homelessness[\"region\"] == \"Pacific\")].head()"
   ]
  },
  {
   "cell_type": "markdown",
   "id": "26781221",
   "metadata": {
    "heading_collapsed": true,
    "hidden": true
   },
   "source": [
    "### Subsetting row by categorical variables"
   ]
  },
  {
   "cell_type": "code",
   "execution_count": null,
   "id": "6cbde3b4",
   "metadata": {
    "hidden": true
   },
   "outputs": [],
   "source": [
    "homelessness[(homelessness[\"region\"] == \"South Atlantic\") | (homelessness[\"region\"] == \"Mid-Atlantic\")]"
   ]
  },
  {
   "cell_type": "markdown",
   "id": "a6d2bd4d",
   "metadata": {
    "hidden": true
   },
   "source": [
    "**isin() method**"
   ]
  },
  {
   "cell_type": "code",
   "execution_count": null,
   "id": "5bee8c73",
   "metadata": {
    "hidden": true
   },
   "outputs": [],
   "source": [
    "region = [\"South Atlantic\",\"Mid=Atlantic\"]"
   ]
  },
  {
   "cell_type": "code",
   "execution_count": null,
   "id": "3468caf4",
   "metadata": {
    "hidden": true
   },
   "outputs": [],
   "source": [
    "homelessness[homelessness[\"region\"].isin(region)]"
   ]
  },
  {
   "cell_type": "markdown",
   "id": "04c2a853",
   "metadata": {
    "heading_collapsed": true,
    "hidden": true
   },
   "source": [
    "### Adding new columns"
   ]
  },
  {
   "cell_type": "code",
   "execution_count": null,
   "id": "b54b8ddd",
   "metadata": {
    "hidden": true
   },
   "outputs": [],
   "source": [
    "homelessness[\"total\"] = homelessness[\"individuals\"] + homelessness[\"family_members\"]\n",
    "homelessness[\"p_individuals\"] = homelessness[\"individuals\"] / homelessness[\"total\"]\n",
    "homelessness.head()"
   ]
  },
  {
   "cell_type": "markdown",
   "id": "493c9d38",
   "metadata": {
    "hidden": true
   },
   "source": [
    "### Combo-attack!"
   ]
  },
  {
   "cell_type": "code",
   "execution_count": null,
   "id": "d7746842",
   "metadata": {
    "hidden": true
   },
   "outputs": [],
   "source": [
    "homelessness[\"indiv_per_10k\"] = 10000 * homelessness[\"individuals\"] / homelessness[\"state_pop\"]\n",
    "high_homelessness = homelessness[homelessness[\"indiv_per_10k\"] > 20]\n",
    "high_homelessness_sort = high_homelessness.sort_values(by=\"indiv_per_10k\", ascending=False)\n",
    "result = high_homelessness_sort[[\"state\", \"indiv_per_10k\"]]\n",
    "result.head()"
   ]
  },
  {
   "cell_type": "markdown",
   "id": "2557b1ea",
   "metadata": {},
   "source": [
    "## Aggregating DataFrames"
   ]
  },
  {
   "cell_type": "code",
   "execution_count": null,
   "id": "fd4e219c",
   "metadata": {},
   "outputs": [],
   "source": [
    "print(sales.head())\n",
    "print(sales.info())"
   ]
  },
  {
   "cell_type": "markdown",
   "id": "93b83823",
   "metadata": {
    "heading_collapsed": true
   },
   "source": [
    "### Summary statistics"
   ]
  },
  {
   "cell_type": "code",
   "execution_count": null,
   "id": "656f94f7",
   "metadata": {
    "hidden": true
   },
   "outputs": [],
   "source": [
    "print(sales[\"weekly_sales\"].mean())\n",
    "print(sales[\"weekly_sales\"].median())"
   ]
  },
  {
   "cell_type": "markdown",
   "id": "3ae48abe",
   "metadata": {
    "heading_collapsed": true
   },
   "source": [
    "### Summarizing dates"
   ]
  },
  {
   "cell_type": "code",
   "execution_count": null,
   "id": "3a72a135",
   "metadata": {
    "hidden": true
   },
   "outputs": [],
   "source": [
    "print(sales[\"date\"].min())\n",
    "print(sales[\"date\"].max())"
   ]
  },
  {
   "cell_type": "markdown",
   "id": "b9f6ab94",
   "metadata": {
    "heading_collapsed": true
   },
   "source": [
    "### Efficient summaries"
   ]
  },
  {
   "cell_type": "code",
   "execution_count": null,
   "id": "dfc70a16",
   "metadata": {
    "hidden": true
   },
   "outputs": [],
   "source": [
    "def iqr(column):\n",
    "    return column.quantile(0.75) - column.quantile(0.25)\n",
    "\n",
    "print(sales[\"temperature_c\"].agg(iqr))"
   ]
  },
  {
   "cell_type": "code",
   "execution_count": null,
   "id": "20b60f95",
   "metadata": {
    "hidden": true
   },
   "outputs": [],
   "source": [
    "print(sales[[\"temperature_c\",\"fuel_price_usd_per_l\",\"unemployment\"]].agg([iqr,np.median]))"
   ]
  },
  {
   "cell_type": "markdown",
   "id": "67a1add5",
   "metadata": {
    "heading_collapsed": true
   },
   "source": [
    "### Cumulative statistics"
   ]
  },
  {
   "cell_type": "code",
   "execution_count": null,
   "id": "2fa06982",
   "metadata": {
    "hidden": true
   },
   "outputs": [],
   "source": [
    "sales_1_1 = sales.sort_values(by=\"date\")\n",
    "sales_1_1.head()"
   ]
  },
  {
   "cell_type": "code",
   "execution_count": null,
   "id": "488410b6",
   "metadata": {
    "hidden": true
   },
   "outputs": [],
   "source": [
    "sales_1_1[\"cum_weekly_sales\"] = sales_1_1[\"weekly_sales\"].cumsum()\n",
    "sales_1_1[\"cum_max_sales\"] = sales_1_1[\"weekly_sales\"].cummax()\n",
    "print(sales_1_1[[\"cum_weekly_sales\", \"cum_max_sales\"]].head())"
   ]
  },
  {
   "cell_type": "markdown",
   "id": "f713266f",
   "metadata": {
    "heading_collapsed": true
   },
   "source": [
    "### Drop duplicates"
   ]
  },
  {
   "cell_type": "code",
   "execution_count": null,
   "id": "a36ba6bf",
   "metadata": {
    "hidden": true
   },
   "outputs": [],
   "source": [
    "store_types = sales.drop_duplicates(subset=[\"store\", \"type\"])\n",
    "print(store_types.head())"
   ]
  },
  {
   "cell_type": "code",
   "execution_count": null,
   "id": "070b80b8",
   "metadata": {
    "hidden": true
   },
   "outputs": [],
   "source": [
    "store_depts = sales.drop_duplicates(subset=[\"store\",\"department\"])\n",
    "print(store_depts.head())"
   ]
  },
  {
   "cell_type": "code",
   "execution_count": null,
   "id": "4a1d3027",
   "metadata": {
    "hidden": true
   },
   "outputs": [],
   "source": [
    "holiday_dates = sales[sales[\"is_holiday\"]].drop_duplicates(subset=\"date\")\n",
    "print(holiday_dates.head())"
   ]
  },
  {
   "cell_type": "markdown",
   "id": "44334bbe",
   "metadata": {
    "heading_collapsed": true
   },
   "source": [
    "### Counting categorical variables"
   ]
  },
  {
   "cell_type": "code",
   "execution_count": null,
   "id": "e318086a",
   "metadata": {
    "hidden": true
   },
   "outputs": [],
   "source": [
    "store_counts = store_types[\"type\"].value_counts()\n",
    "print(store_counts)\n",
    "\n",
    "store_props = store_types[\"type\"].value_counts(normalize=True)\n",
    "print(store_props)\n",
    "\n",
    "dept_count_sort = store_depts[\"department\"].value_counts(sort=True)\n",
    "print(dept_count_sort)\n",
    "\n",
    "dept_count_prop = store_depts[\"department\"].value_counts(sort=True, normalize=True)\n",
    "print(dept_count_prop)"
   ]
  },
  {
   "cell_type": "markdown",
   "id": "de8ca45a",
   "metadata": {
    "heading_collapsed": true
   },
   "source": [
    "### What percent of sales occurred at each store type?"
   ]
  },
  {
   "cell_type": "code",
   "execution_count": null,
   "id": "16debbcf",
   "metadata": {
    "hidden": true
   },
   "outputs": [],
   "source": [
    "sales_all = sales[\"weekly_sales\"].sum()\n",
    "\n",
    "sales_A = sales[sales[\"type\"] == \"A\"][\"weekly_sales\"].sum()\n",
    "\n",
    "sales_B = sales[sales[\"type\"] == \"B\"][\"weekly_sales\"].sum()\n",
    "\n",
    "sales_C = sales[sales[\"type\"] == \"C\"][\"weekly_sales\"].sum()\n",
    "\n",
    "sales_propn_by_type = [sales_A, sales_B, sales_C] / sales_all\n",
    "print(sales_propn_by_type)"
   ]
  },
  {
   "cell_type": "code",
   "execution_count": null,
   "id": "2dde2747",
   "metadata": {
    "hidden": true
   },
   "outputs": [],
   "source": [
    "sales_by_type = sales.groupby(\"type\")[\"weekly_sales\"].sum()\n",
    "sales_by_type\n",
    "sales_propn_by_type = sales_by_type / sum(sales[\"weekly_sales\"])\n",
    "print(sales_propn_by_type)\n",
    "sales_by_type_is_holiday = sales.groupby([\"type\",\"is_holiday\"])[\"weekly_sales\"].sum()\n",
    "print(sales_by_type_is_holiday)"
   ]
  },
  {
   "cell_type": "markdown",
   "id": "5f19f0f5",
   "metadata": {},
   "source": [
    "### Multiple grouped summaries"
   ]
  },
  {
   "cell_type": "code",
   "execution_count": null,
   "id": "bb9ef563",
   "metadata": {},
   "outputs": [],
   "source": [
    "sales_stats = sales.groupby(\"type\")[\"weekly_sales\"].agg([np.min,np.max,np.mean,np.median])\n",
    "print(sales_stats)\n",
    "\n",
    "unemp_fuel_stats = sales.groupby(\"type\")[\"unemployment\",\"fuel_price_usd_per_l\"].agg([np.min,np.max,np.mean,np.median])\n",
    "print(unemp_fuel_stats)"
   ]
  },
  {
   "cell_type": "markdown",
   "id": "69dd3745",
   "metadata": {},
   "source": [
    "### Pivoting on one variable"
   ]
  },
  {
   "cell_type": "code",
   "execution_count": null,
   "id": "a2e1f42b",
   "metadata": {},
   "outputs": [],
   "source": [
    "mean_sales_by_type = sales.pivot_table(\"weekly_sales\", index=\"type\")\n",
    "print(mean_sales_by_type)"
   ]
  },
  {
   "cell_type": "code",
   "execution_count": null,
   "id": "13fa32e8",
   "metadata": {},
   "outputs": [],
   "source": [
    "mean_median_sales_by_type = sales.pivot_table(values=\"weekly_sales\",index=\"type\", aggfunc=[np.mean, np.median])\n",
    "print(mean_median_sales_by_type)"
   ]
  },
  {
   "cell_type": "code",
   "execution_count": null,
   "id": "13053c99",
   "metadata": {},
   "outputs": [],
   "source": [
    "mean_sales_by_type_holiday = sales.pivot_table(values=\"weekly_sales\", index=\"type\", columns=\"is_holiday\")\n",
    "print(mean_sales_by_type_holiday)"
   ]
  },
  {
   "cell_type": "markdown",
   "id": "c4ac806f",
   "metadata": {},
   "source": [
    "### Fill in missing values and sum values with pivot tables"
   ]
  },
  {
   "cell_type": "code",
   "execution_count": null,
   "id": "e30b92f4",
   "metadata": {},
   "outputs": [],
   "source": [
    "print(sales.pivot_table(values=\"weekly_sales\", index=\"department\", columns=\"type\", fill_value=0))"
   ]
  },
  {
   "cell_type": "code",
   "execution_count": null,
   "id": "fb854187",
   "metadata": {},
   "outputs": [],
   "source": []
  }
 ],
 "metadata": {
  "kernelspec": {
   "display_name": "Python 3 (ipykernel)",
   "language": "python",
   "name": "python3"
  },
  "language_info": {
   "codemirror_mode": {
    "name": "ipython",
    "version": 3
   },
   "file_extension": ".py",
   "mimetype": "text/x-python",
   "name": "python",
   "nbconvert_exporter": "python",
   "pygments_lexer": "ipython3",
   "version": "3.9.7"
  }
 },
 "nbformat": 4,
 "nbformat_minor": 5
}
